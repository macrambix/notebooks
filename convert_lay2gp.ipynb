{
 "cells": [
  {
   "cell_type": "code",
   "execution_count": 1,
   "metadata": {},
   "outputs": [
    {
     "name": "stdout",
     "output_type": "stream",
     "text": [
      "3.8.6 (default, Jan 27 2021, 15:42:20) \n",
      "[GCC 10.2.0]\n"
     ]
    }
   ],
   "source": [
    "import sys\n",
    "print(sys.version)"
   ]
  },
  {
   "cell_type": "markdown",
   "metadata": {},
   "source": [
    "### Load modules"
   ]
  },
  {
   "cell_type": "code",
   "execution_count": 38,
   "metadata": {},
   "outputs": [
    {
     "name": "stdout",
     "output_type": "stream",
     "text": [
      "Pandas version  :  1.1.4\n",
      "PyVista version :  0.27.4\n",
      "NumPy version   :  1.18.4\n"
     ]
    }
   ],
   "source": [
    "import pandas as pd\n",
    "import numpy as np\n",
    "import matplotlib.pyplot as plt\n",
    "import seaborn as sns\n",
    "import pyevtk # export grid data to vtk format\n",
    "from mpl_toolkits.mplot3d import Axes3D\n",
    "import ipywidgets as widgets\n",
    "import pyvista as pv\n",
    "from itkwidgets import view\n",
    "print(\"Pandas version  : \",pd.__version__)\n",
    "print(\"PyVista version : \",pv.__version__)\n",
    "print(\"NumPy version   : \",np.__version__)\n",
    "%matplotlib widget\n",
    "pv.rcParams['use_ipyvtk'] = True\n",
    "pd.set_option('precision', 6)"
   ]
  },
  {
   "cell_type": "code",
   "execution_count": 3,
   "metadata": {},
   "outputs": [],
   "source": [
    "#%cat 'data/synth.dat'"
   ]
  },
  {
   "cell_type": "code",
   "execution_count": 3,
   "metadata": {},
   "outputs": [],
   "source": [
    "#%pip freeze  > requirements.txt"
   ]
  },
  {
   "cell_type": "markdown",
   "metadata": {},
   "source": [
    "### 1. Read raw datas from tecplot"
   ]
  },
  {
   "cell_type": "code",
   "execution_count": 3,
   "metadata": {},
   "outputs": [],
   "source": [
    "df = pd.read_csv(filepath_or_buffer=r'data/input_data/synth.dat',sep='\\t',skiprows=10,\n",
    "                 names=[\"X\",\"Y\",\"Z\",\"Layer1\",\"Layer2\",\"Layer3\",\"Layer4\",\"Layer5\"],dtype=np.float64)"
   ]
  },
  {
   "cell_type": "code",
   "execution_count": 4,
   "metadata": {},
   "outputs": [
    {
     "data": {
      "text/html": [
       "<div>\n",
       "<style scoped>\n",
       "    .dataframe tbody tr th:only-of-type {\n",
       "        vertical-align: middle;\n",
       "    }\n",
       "\n",
       "    .dataframe tbody tr th {\n",
       "        vertical-align: top;\n",
       "    }\n",
       "\n",
       "    .dataframe thead th {\n",
       "        text-align: right;\n",
       "    }\n",
       "</style>\n",
       "<table border=\"1\" class=\"dataframe\">\n",
       "  <thead>\n",
       "    <tr style=\"text-align: right;\">\n",
       "      <th></th>\n",
       "      <th>X</th>\n",
       "      <th>Y</th>\n",
       "      <th>Z</th>\n",
       "      <th>Layer1</th>\n",
       "      <th>Layer2</th>\n",
       "      <th>Layer3</th>\n",
       "      <th>Layer4</th>\n",
       "      <th>Layer5</th>\n",
       "    </tr>\n",
       "  </thead>\n",
       "  <tbody>\n",
       "    <tr>\n",
       "      <th>0</th>\n",
       "      <td>500.0</td>\n",
       "      <td>500.0</td>\n",
       "      <td>0.5</td>\n",
       "      <td>1.0</td>\n",
       "      <td>0.0</td>\n",
       "      <td>0.0</td>\n",
       "      <td>0.0</td>\n",
       "      <td>0.0</td>\n",
       "    </tr>\n",
       "    <tr>\n",
       "      <th>1</th>\n",
       "      <td>500.0</td>\n",
       "      <td>500.0</td>\n",
       "      <td>1.5</td>\n",
       "      <td>1.0</td>\n",
       "      <td>0.0</td>\n",
       "      <td>0.0</td>\n",
       "      <td>0.0</td>\n",
       "      <td>0.0</td>\n",
       "    </tr>\n",
       "    <tr>\n",
       "      <th>2</th>\n",
       "      <td>500.0</td>\n",
       "      <td>500.0</td>\n",
       "      <td>2.5</td>\n",
       "      <td>1.0</td>\n",
       "      <td>0.0</td>\n",
       "      <td>0.0</td>\n",
       "      <td>0.0</td>\n",
       "      <td>0.0</td>\n",
       "    </tr>\n",
       "    <tr>\n",
       "      <th>3</th>\n",
       "      <td>500.0</td>\n",
       "      <td>500.0</td>\n",
       "      <td>3.5</td>\n",
       "      <td>1.0</td>\n",
       "      <td>0.0</td>\n",
       "      <td>0.0</td>\n",
       "      <td>0.0</td>\n",
       "      <td>0.0</td>\n",
       "    </tr>\n",
       "    <tr>\n",
       "      <th>4</th>\n",
       "      <td>500.0</td>\n",
       "      <td>500.0</td>\n",
       "      <td>4.5</td>\n",
       "      <td>1.0</td>\n",
       "      <td>0.0</td>\n",
       "      <td>0.0</td>\n",
       "      <td>0.0</td>\n",
       "      <td>0.0</td>\n",
       "    </tr>\n",
       "  </tbody>\n",
       "</table>\n",
       "</div>"
      ],
      "text/plain": [
       "       X      Y    Z  Layer1  Layer2  Layer3  Layer4  Layer5\n",
       "0  500.0  500.0  0.5     1.0     0.0     0.0     0.0     0.0\n",
       "1  500.0  500.0  1.5     1.0     0.0     0.0     0.0     0.0\n",
       "2  500.0  500.0  2.5     1.0     0.0     0.0     0.0     0.0\n",
       "3  500.0  500.0  3.5     1.0     0.0     0.0     0.0     0.0\n",
       "4  500.0  500.0  4.5     1.0     0.0     0.0     0.0     0.0"
      ]
     },
     "execution_count": 4,
     "metadata": {},
     "output_type": "execute_result"
    }
   ],
   "source": [
    "layers=list(df.columns[3:]) # X,Y,Z\n",
    "df.head()"
   ]
  },
  {
   "cell_type": "markdown",
   "metadata": {},
   "source": [
    "### 2. Filtering datas"
   ]
  },
  {
   "cell_type": "markdown",
   "metadata": {},
   "source": [
    "#### 2.1 Function for filtering / sorting and merging layers from raw datas"
   ]
  },
  {
   "cell_type": "code",
   "execution_count": 5,
   "metadata": {},
   "outputs": [],
   "source": [
    "def mask_df(df,formation):\n",
    "    df_f = df.copy()\n",
    "    df_f = df[df[formation]==1]\n",
    "    l=layers.copy() \n",
    "    l.remove(formation)\n",
    "    df_f=df_f.drop(columns=l)\n",
    "    df_f.rename(columns={formation: 'formation'}, inplace=True)\n",
    "    df_f=df_f.assign(formation=str(formation))\n",
    "    return df_f"
   ]
  },
  {
   "cell_type": "code",
   "execution_count": 6,
   "metadata": {},
   "outputs": [],
   "source": [
    "def sort_df(df,formation):\n",
    "    df_l = mask_df(df,formation)\n",
    "    groups = df_l.groupby(['X','Y'])\n",
    "    df_sort = groups.max()\n",
    "    df_sort.reset_index(inplace=True)\n",
    "    return df_sort"
   ]
  },
  {
   "cell_type": "code",
   "execution_count": 7,
   "metadata": {},
   "outputs": [],
   "source": [
    "def grad_df(df,normals,formation):\n",
    "    df_grad = sort_df(df,formation)\n",
    "    df_grad.insert(loc=3, column = 'G_x', value=normals[:,0])\n",
    "    df_grad.insert(loc=4, column = 'G_y', value=normals[:,1])\n",
    "    df_grad.insert(loc=5, column = 'G_z', value=normals[:,2])\n",
    "    return df_grad"
   ]
  },
  {
   "cell_type": "markdown",
   "metadata": {},
   "source": [
    "#### 2.2 Plot 3d raw data"
   ]
  },
  {
   "cell_type": "code",
   "execution_count": 8,
   "metadata": {},
   "outputs": [
    {
     "data": {
      "application/vnd.jupyter.widget-view+json": {
       "model_id": "49ad2c1fdeaf4e438b3d1f4cac1aa85f",
       "version_major": 2,
       "version_minor": 0
      },
      "text/plain": [
       "Canvas(toolbar=Toolbar(toolitems=[('Home', 'Reset original view', 'home', 'home'), ('Back', 'Back to previous …"
      ]
     },
     "metadata": {},
     "output_type": "display_data"
    }
   ],
   "source": [
    "sns.set(style = \"darkgrid\")\n",
    "fig = plt.figure()\n",
    "ax = fig.add_subplot(111, projection = '3d')\n",
    "for layer in layers :\n",
    "    df_l = mask_df(df,layer)\n",
    "    x,y,z = [df_l['X'], df_l['Y'], df_l['Z']]\n",
    "    ax.scatter(x, y, z,s=30,depthshade=True)\n",
    "plt.grid(b=True,axis='both')\n",
    "plt.show(True)"
   ]
  },
  {
   "cell_type": "markdown",
   "metadata": {},
   "source": [
    "#### 2.3 And the Vasarely's plot"
   ]
  },
  {
   "cell_type": "code",
   "execution_count": 10,
   "metadata": {},
   "outputs": [
    {
     "data": {
      "application/vnd.jupyter.widget-view+json": {
       "model_id": "dc5b934a286d497bb57f13e109cdaaba",
       "version_major": 2,
       "version_minor": 0
      },
      "text/plain": [
       "interactive(children=(Combobox(value='Layer1', description='Layer', options=('Layer1', 'Layer2', 'Layer3', 'La…"
      ]
     },
     "metadata": {},
     "output_type": "display_data"
    },
    {
     "data": {
      "text/plain": [
       "<function __main__.plot_elevation_map(layer)>"
      ]
     },
     "execution_count": 10,
     "metadata": {},
     "output_type": "execute_result"
    }
   ],
   "source": [
    "import matplotlib.pyplot as plt\n",
    "def plot_elevation_map(layer):\n",
    "    df_sort = sort_df(df,layer)\n",
    "    pts_x,pts_y,pts_z = [df_sort.X.to_numpy(),df_sort.Y.to_numpy(),df_sort.Z.to_numpy()]\n",
    "    points = np.c_[pts_x, pts_y, pts_z]\n",
    "\n",
    "    plt.figure(figsize=(5, 5))\n",
    "    plt.scatter(points[:, 0], points[:, 1], c=points[:, 2],s=100,marker=\"o\",cmap=\"viridis\")\n",
    "    plt.axis(\"image\")\n",
    "    plt.colorbar()\n",
    "    plt.xlabel(\"X Coordinate\")\n",
    "    plt.ylabel(\"Y Coordinate\")\n",
    "    plt.show()\n",
    "widgets.interact(plot_elevation_map,\n",
    "                layer=widgets.Combobox(description='Layer',options=[\"Layer1\", \"Layer2\", \"Layer3\", \"Layer4\", \"Layer5\"], value=\"Layer1\"))"
   ]
  },
  {
   "cell_type": "markdown",
   "metadata": {},
   "source": [
    "#### 2.4 Set vertical exageration"
   ]
  },
  {
   "cell_type": "code",
   "execution_count": 13,
   "metadata": {},
   "outputs": [
    {
     "data": {
      "application/vnd.jupyter.widget-view+json": {
       "model_id": "579f09630fe3405da50cddff5d8abac5",
       "version_major": 2,
       "version_minor": 0
      },
      "text/plain": [
       "FloatText(value=100.0, description='Z vert. ex.')"
      ]
     },
     "metadata": {},
     "output_type": "display_data"
    },
    {
     "data": {
      "application/vnd.jupyter.widget-view+json": {
       "model_id": "a739731fdcd14f5a92c3b186868547f9",
       "version_major": 2,
       "version_minor": 0
      },
      "text/plain": [
       "IntSlider(value=100, max=1000, min=10, step=10)"
      ]
     },
     "metadata": {},
     "output_type": "display_data"
    }
   ],
   "source": [
    "ve_txt = widgets.FloatText(description='Z vert. ex.',value=100)\n",
    "ve_slider = widgets.IntSlider(min=10,max=1000,step=10,value=100)\n",
    "display(ve_txt,ve_slider)\n",
    "\n",
    "ve = widgets.jslink((ve_txt, 'value'), (ve_slider, 'value'))"
   ]
  },
  {
   "cell_type": "markdown",
   "metadata": {},
   "source": [
    "#### 2.5 Concatenate all layers point positions in a surface dataFrame"
   ]
  },
  {
   "cell_type": "code",
   "execution_count": 14,
   "metadata": {},
   "outputs": [
    {
     "data": {
      "text/html": [
       "<div>\n",
       "<style scoped>\n",
       "    .dataframe tbody tr th:only-of-type {\n",
       "        vertical-align: middle;\n",
       "    }\n",
       "\n",
       "    .dataframe tbody tr th {\n",
       "        vertical-align: top;\n",
       "    }\n",
       "\n",
       "    .dataframe thead th {\n",
       "        text-align: right;\n",
       "    }\n",
       "</style>\n",
       "<table border=\"1\" class=\"dataframe\">\n",
       "  <thead>\n",
       "    <tr style=\"text-align: right;\">\n",
       "      <th></th>\n",
       "      <th>X</th>\n",
       "      <th>Y</th>\n",
       "      <th>Z</th>\n",
       "      <th>formation</th>\n",
       "    </tr>\n",
       "  </thead>\n",
       "  <tbody>\n",
       "    <tr>\n",
       "      <th>215</th>\n",
       "      <td>9500.0</td>\n",
       "      <td>7500.0</td>\n",
       "      <td>24.5</td>\n",
       "      <td>Layer5</td>\n",
       "    </tr>\n",
       "    <tr>\n",
       "      <th>216</th>\n",
       "      <td>9500.0</td>\n",
       "      <td>8000.0</td>\n",
       "      <td>24.5</td>\n",
       "      <td>Layer5</td>\n",
       "    </tr>\n",
       "    <tr>\n",
       "      <th>217</th>\n",
       "      <td>9500.0</td>\n",
       "      <td>8500.0</td>\n",
       "      <td>24.5</td>\n",
       "      <td>Layer5</td>\n",
       "    </tr>\n",
       "    <tr>\n",
       "      <th>218</th>\n",
       "      <td>9500.0</td>\n",
       "      <td>9000.0</td>\n",
       "      <td>24.5</td>\n",
       "      <td>Layer5</td>\n",
       "    </tr>\n",
       "    <tr>\n",
       "      <th>219</th>\n",
       "      <td>9500.0</td>\n",
       "      <td>9500.0</td>\n",
       "      <td>24.5</td>\n",
       "      <td>Layer5</td>\n",
       "    </tr>\n",
       "  </tbody>\n",
       "</table>\n",
       "</div>"
      ],
      "text/plain": [
       "          X       Y     Z formation\n",
       "215  9500.0  7500.0  24.5    Layer5\n",
       "216  9500.0  8000.0  24.5    Layer5\n",
       "217  9500.0  8500.0  24.5    Layer5\n",
       "218  9500.0  9000.0  24.5    Layer5\n",
       "219  9500.0  9500.0  24.5    Layer5"
      ]
     },
     "execution_count": 14,
     "metadata": {},
     "output_type": "execute_result"
    }
   ],
   "source": [
    "df_all_surf = pd.concat([sort_df(df,layer) for layer in layers],sort=True)\n",
    "np.shape(df_all_surf)\n",
    "df_all_surf.tail()"
   ]
  },
  {
   "cell_type": "markdown",
   "metadata": {},
   "source": [
    "#### 2.6 Compute Azimuth, dip angles from pole gradient vectors (normals definition)"
   ]
  },
  {
   "cell_type": "code",
   "execution_count": 15,
   "metadata": {},
   "outputs": [],
   "source": [
    "def calculate_orientations(df, idx=None):\n",
    "        if idx is None:\n",
    "            pol = 1\n",
    "            df.insert(loc=6,column = 'azimuth',value = np.rad2deg(np.nan_to_num(np.arctan2(df[\"G_x\"] / pol,\n",
    "                                                                                           df[\"G_y\"] / pol))))\n",
    "            df.insert(loc=7,column = 'dip', value = np.rad2deg(np.nan_to_num(np.arccos(df[\"G_z\"] / pol))))\n",
    "            df.insert(loc=8,column = 'polarity',value  = pol)\n",
    "            # mask\n",
    "            df[\"azimuth\"][df[\"azimuth\"] < 0] += 360  # shift values from [-pi, 0] to [pi,2*pi]\n",
    "            df[\"azimuth\"][df[\"dip\"] < 0.001] = 0  # because if dip is zero azimuth is undefined\n",
    "        else:\n",
    "            df.loc[idx, 'polarity'] = 1\n",
    "            df.loc[idx, \"dip\"] = np.rad2deg(np.nan_to_num(np.arccos(df.loc[idx, \"G_z\"] /\n",
    "                                                                    df.loc[idx, \"polarity\"])))\n",
    "            df.loc[idx, \"azimuth\"] = np.rad2deg(np.nan_to_num(\n",
    "                np.arctan2(df.loc[idx, \"G_x\"] / df.loc[idx, \"polarity\"],\n",
    "                           df.loc[idx, \"G_y\"] / df.loc[idx, \"polarity\"])))\n",
    "            df[\"azimuth\"][df[\"azimuth\"] < 0] += 360  # shift values from [-pi, 0] to [pi,2*pi]\n",
    "            df[\"azimuth\"][df[\"dip\"] < 0.001] = 0  # because if dip is zero azimuth is undefined\n",
    "        return df"
   ]
  },
  {
   "cell_type": "markdown",
   "metadata": {},
   "source": [
    "#### 2.7 Compute pole gradients ```G_x, G_y, G_z``` as normal vectors from a surface layer (```delaunay_2d```)"
   ]
  },
  {
   "cell_type": "markdown",
   "metadata": {},
   "source": [
    "##### 2.7.1 Plot layers and normals"
   ]
  },
  {
   "cell_type": "code",
   "execution_count": 16,
   "metadata": {},
   "outputs": [
    {
     "data": {
      "application/vnd.jupyter.widget-view+json": {
       "model_id": "f4c32552c5594accbb281201dc1df56b",
       "version_major": 2,
       "version_minor": 0
      },
      "text/plain": [
       "interactive(children=(IntSlider(value=100, description='Z vert. ex.', max=1000, min=10, step=10), IntSlider(va…"
      ]
     },
     "metadata": {},
     "output_type": "display_data"
    },
    {
     "data": {
      "text/plain": [
       "<function __main__.plot_layers_orientation(ve, fact_n, is_l1, is_l2, is_l3, is_l4, is_l5)>"
      ]
     },
     "execution_count": 16,
     "metadata": {},
     "output_type": "execute_result"
    }
   ],
   "source": [
    "def plot_layers_orientation(ve,fact_n,is_l1,is_l2,is_l3,is_l4,is_l5):\n",
    "    clr = ['b','orange','g','r','m']\n",
    "    id=0\n",
    "    is_layer = [is_l1,is_l2,is_l3,is_l4,is_l5]\n",
    "    p.remove_legend()\n",
    "    p.clear()\n",
    "    df_all_grad = pd.DataFrame(columns = ['X','Y','Z','G_x', 'G_y', 'G_z','formation'])\n",
    "    for layer in layers:\n",
    "        if is_layer[layers.index(layer)] :\n",
    "            df_sort = sort_df(df,layer)\n",
    "\n",
    "            pts_x,pts_y,pts_z = [df_sort.X.to_numpy(),df_sort.Y.to_numpy(),df_sort.Z.to_numpy()]\n",
    "            points = np.c_[pts_x, pts_y, ve*pts_z]\n",
    "            print(np.shape(points))\n",
    "            cloud = pv.PolyData(points)\n",
    "            surf = cloud.delaunay_2d(tol=1e-5,progress_bar=True,offset=1e-5)\n",
    "            surf.compute_normals(cell_normals=False, point_normals=True,inplace=True)  # this activates the normals as well\n",
    "            normals = surf['Normals']\n",
    "            df_all_grad=df_all_grad.append(grad_df(df,normals,layer),ignore_index=True)\n",
    "            # plot \n",
    "            arrows = surf.glyph(scale=\"Normals\", orient=\"Normals\", tolerance=0.01,factor=fact_n)\n",
    "            mesh.points = points\n",
    "            glyph_act = p.add_mesh(arrows, color=\"c\",point_size=10)\n",
    "            surf_act = p.add_mesh(surf,color=clr[id],smooth_shading=True,label=layer,show_edges=True,opacity=1,lighting=True)\n",
    "            id +=1\n",
    "    p.show_grid()\n",
    "    p.add_axes()\n",
    "    p.add_legend()\n",
    "    p.show() \n",
    "\n",
    "mesh = pv.UnstructuredGrid()\n",
    "p = pv.Plotter()\n",
    "\n",
    "widgets.interact(plot_layers_orientation,\n",
    "                 ve=widgets.IntSlider(description='Z vert. ex.',min=10,max=1000,step=10,value=ve_txt.value),\n",
    "                 fact_n=widgets.IntSlider(description='Glyph ex.',min=10,max=2000,step=100,value=900),\n",
    "                 is_l1=widgets.Checkbox(description='Layer 1',value=True),\n",
    "                 is_l2=widgets.Checkbox(description='Layer 2',value=False),\n",
    "                 is_l3=widgets.Checkbox(description='Layer 3',value=False),\n",
    "                 is_l4=widgets.Checkbox(description='Layer 4',value=False),\n",
    "                 is_l5=widgets.Checkbox(description='Layer 5',value=False)) "
   ]
  },
  {
   "cell_type": "markdown",
   "metadata": {},
   "source": [
    "##### 2.7.2 Load orientation dataFrame for orientation vectors"
   ]
  },
  {
   "cell_type": "code",
   "execution_count": 17,
   "metadata": {},
   "outputs": [
    {
     "name": "stdout",
     "output_type": "stream",
     "text": [
      "Z exageration value :  100.0\n",
      "Surface point for  Layer1  :  (361, 3)\n",
      "Surface point for  Layer2  :  (319, 3)\n",
      "Surface point for  Layer3  :  (339, 3)\n",
      "Surface point for  Layer4  :  (213, 3)\n",
      "Surface point for  Layer5  :  (220, 3)\n"
     ]
    },
    {
     "name": "stderr",
     "output_type": "stream",
     "text": [
      "\n",
      "A value is trying to be set on a copy of a slice from a DataFrame\n",
      "\n",
      "See the caveats in the documentation: https://pandas.pydata.org/pandas-docs/stable/user_guide/indexing.html#returning-a-view-versus-a-copy\n",
      "\n",
      "A value is trying to be set on a copy of a slice from a DataFrame\n",
      "\n",
      "See the caveats in the documentation: https://pandas.pydata.org/pandas-docs/stable/user_guide/indexing.html#returning-a-view-versus-a-copy\n"
     ]
    }
   ],
   "source": [
    "print('Z exageration value : ',ve_txt.value)\n",
    "df_all_grad = pd.DataFrame(columns = ['X','Y','Z','G_x', 'G_y', 'G_z','formation'])\n",
    "for layer in layers:\n",
    "    df_sort = sort_df(df,layer)\n",
    "    pts_x,pts_y,pts_z = [df_sort.X.to_numpy(),df_sort.Y.to_numpy(),df_sort.Z.to_numpy()]\n",
    "    points = np.c_[pts_x, pts_y, ve_txt.value*pts_z]\n",
    "    print('Surface point for ',layer,' : ',np.shape(points))\n",
    "    cloud = pv.PolyData(points)\n",
    "    surf = cloud.delaunay_2d(tol=1e-5,offset=1e-5)\n",
    "    surf.compute_normals(cell_normals=False, point_normals=True,inplace=True)  # this activates the normals as well\n",
    "    normals = surf['Normals']\n",
    "    df_all_grad=df_all_grad.append(grad_df(df,normals,layer),ignore_index=True)\n",
    "df_all = calculate_orientations(df_all_grad) # insert azimuth, dip, polarity from normals calculation"
   ]
  },
  {
   "cell_type": "markdown",
   "metadata": {},
   "source": [
    "### 3. Save surface dataFrame in ```csv``` format"
   ]
  },
  {
   "cell_type": "code",
   "execution_count": 18,
   "metadata": {},
   "outputs": [
    {
     "data": {
      "application/vnd.jupyter.widget-view+json": {
       "model_id": "818690931c894fb9a8bdcc0be41ad9ab",
       "version_major": 2,
       "version_minor": 0
      },
      "text/plain": [
       "interactive(children=(IntSlider(value=50, description='Number of bins', max=361, min=10, step=10), IntSlider(v…"
      ]
     },
     "metadata": {},
     "output_type": "display_data"
    },
    {
     "data": {
      "text/plain": [
       "<function __main__.save_surface_in_csv(nbin, rand, is_l1, is_l2, is_l3, is_l4, is_l5)>"
      ]
     },
     "execution_count": 18,
     "metadata": {},
     "output_type": "execute_result"
    }
   ],
   "source": [
    "def save_surface_in_csv(nbin,rand,is_l1,is_l2,is_l3,is_l4,is_l5):\n",
    "    df_surf_mask = pd.DataFrame(columns = ['X','Y','Z','formation'])\n",
    "    df_surf = df_all_surf.sample(n=nbin,random_state=rand) # bins\n",
    "    df_surf['Z']=df_surf['Z']*ve_txt.value # vertical exageration\n",
    "    if is_l1:\n",
    "        df_surf_mask = df_surf_mask.append(df_surf[df_surf['formation']=='Layer1'])\n",
    "    if is_l2:\n",
    "        df_surf_mask = df_surf_mask.append(df_surf[df_surf['formation']=='Layer2'])\n",
    "    if is_l3:\n",
    "        df_surf_mask = df_surf_mask.append(df_surf[df_surf['formation']=='Layer3'])\n",
    "    if is_l4:\n",
    "        df_surf_mask = df_surf_mask.append(df_surf[df_surf['formation']=='Layer4'])\n",
    "    if is_l5:\n",
    "        df_surf_mask = df_surf_mask.append(df_surf[df_surf['formation']=='Layer5'])\n",
    "    df_surf_mask.to_csv(r'data/df_synth_surf.csv', sep=',', encoding='utf-8',index=False)\n",
    "    print(df_surf_mask.head())\n",
    "    print('... surface file saved')\n",
    "    \n",
    "widgets.interact(save_surface_in_csv,\n",
    "                 nbin=widgets.IntSlider(description='Number of bins',min=10,max=len(sort_df(df,\"Layer1\")),step=10,value=50),\n",
    "                 rand=widgets.IntSlider(description='random state number',min=1,max=10,step=1,value=2),\n",
    "                 is_l1=widgets.Checkbox(description='Layer 1',value=True),\n",
    "                 is_l2=widgets.Checkbox(description='Layer 2',value=True),\n",
    "                 is_l3=widgets.Checkbox(description='Layer 3',value=True),\n",
    "                 is_l4=widgets.Checkbox(description='Layer 4',value=True),\n",
    "                 is_l5=widgets.Checkbox(description='Layer 5',value=False))"
   ]
  },
  {
   "cell_type": "markdown",
   "metadata": {},
   "source": [
    "#### 4. Save orientation dataFrame in ```csv``` format"
   ]
  },
  {
   "cell_type": "code",
   "execution_count": 19,
   "metadata": {},
   "outputs": [
    {
     "data": {
      "application/vnd.jupyter.widget-view+json": {
       "model_id": "c1a8843a7e5049939de843289b5a91c1",
       "version_major": 2,
       "version_minor": 0
      },
      "text/plain": [
       "interactive(children=(Checkbox(value=True, description='Gradient'), Checkbox(value=True, description='Azimuth'…"
      ]
     },
     "metadata": {},
     "output_type": "display_data"
    },
    {
     "data": {
      "text/plain": [
       "<function __main__.save_orientation_in_csv(pole_gradient, azimuth_angle, nbin, rand, is_l1, is_l2, is_l3, is_l4, is_l5)>"
      ]
     },
     "execution_count": 19,
     "metadata": {},
     "output_type": "execute_result"
    }
   ],
   "source": [
    "def save_orientation_in_csv(pole_gradient,azimuth_angle,nbin,rand,is_l1,is_l2,is_l3,is_l4,is_l5):\n",
    "    df_grad_mask = pd.DataFrame(columns = ['X','Y','Z','G_x', 'G_y', 'G_z','azimuth', 'dip', 'polarity','formation'])\n",
    "    df_grad = df_all_grad.sample(n=nbin,random_state=rand) # bins\n",
    "    if (not pole_gradient):\n",
    "        df_grad.drop(columns = ['G_x', 'G_y', 'G_z'],inplace = True)\n",
    "        df_grad_mask.drop(columns = ['G_x', 'G_y', 'G_z'],inplace = True)\n",
    "    if (not azimuth_angle):\n",
    "        df_grad.drop(columns = ['azimuth', 'dip','polarity'],inplace = True)\n",
    "        df_grad_mask.drop(columns = ['azimuth', 'dip','polarity'],inplace = True)\n",
    "    df_grad['Z']=df_grad['Z']*ve_txt.value # vertical exageration\n",
    "    if is_l1:\n",
    "        df_grad_mask = df_grad_mask.append(df_grad[df_grad['formation']=='Layer1'])\n",
    "    if is_l2:\n",
    "        df_grad_mask = df_grad_mask.append(df_grad[df_grad['formation']=='Layer2'])\n",
    "    if is_l3:\n",
    "        df_grad_mask = df_grad_mask.append(df_grad[df_grad['formation']=='Layer3'])\n",
    "    if is_l4:\n",
    "        df_grad_mask = df_grad_mask.append(df_grad[df_grad['formation']=='Layer4'])\n",
    "    if is_l5:\n",
    "        df_grad_mask = df_grad_mask.append(df_grad[df_grad['formation']=='Layer5'])\n",
    "    df_grad_mask.to_csv(r'data/df_synth_orient.csv', sep=',', encoding='utf-8',index=False)\n",
    "    df_grad_mask.head()\n",
    "    print('... orientations file saved')\n",
    "    \n",
    "widgets.interact(save_orientation_in_csv,\n",
    "                 pole_gradient=widgets.Checkbox(description='Gradient',value=True),\n",
    "                 azimuth_angle=widgets.Checkbox(description='Azimuth',value=True),\n",
    "                 nbin=widgets.IntSlider(description='Number of bins',min=10,max=len(sort_df(df,\"Layer1\")),step=10,value=50),\n",
    "                 rand=widgets.IntSlider(description='random state number',min=1,max=10,step=1,value=2),\n",
    "                 is_l1=widgets.Checkbox(description='Layer 1',value=True),\n",
    "                 is_l2=widgets.Checkbox(description='Layer 2',value=True),\n",
    "                 is_l3=widgets.Checkbox(description='Layer 3',value=True),\n",
    "                 is_l4=widgets.Checkbox(description='Layer 4',value=True),\n",
    "                 is_l5=widgets.Checkbox(description='Layer 5',value=False))"
   ]
  },
  {
   "cell_type": "markdown",
   "metadata": {},
   "source": [
    "### 5. Use GemPy and theano interpolation"
   ]
  },
  {
   "cell_type": "code",
   "execution_count": 20,
   "metadata": {},
   "outputs": [
    {
     "name": "stdout",
     "output_type": "stream",
     "text": [
      "No module named 'osgeo'\n"
     ]
    },
    {
     "name": "stderr",
     "output_type": "stream",
     "text": [
      "WARNING (theano.tensor.blas): Using NumPy C-API based implementation for BLAS functions.\n"
     ]
    }
   ],
   "source": [
    "import gempy as gp\n",
    "import os\n",
    "os.environ[\"THEANO_FLAGS\"] = \"mode=FAST_RUN,device=cpu\""
   ]
  },
  {
   "cell_type": "markdown",
   "metadata": {},
   "source": [
    "#### 5.1 Set the resolution in ```x,y,z```"
   ]
  },
  {
   "cell_type": "code",
   "execution_count": 21,
   "metadata": {},
   "outputs": [
    {
     "data": {
      "application/vnd.jupyter.widget-view+json": {
       "model_id": "d4c1d1853f0749f1a4c44ae0ef299f6b",
       "version_major": 2,
       "version_minor": 0
      },
      "text/plain": [
       "VBox(children=(IntSlider(value=20, description='res x', min=20, step=10), IntSlider(value=20, description='res…"
      ]
     },
     "metadata": {},
     "output_type": "display_data"
    },
    {
     "data": {
      "application/vnd.jupyter.widget-view+json": {
       "model_id": "4c77d717bf0f430f864bf74b9c232ef3",
       "version_major": 2,
       "version_minor": 0
      },
      "text/plain": [
       "Output()"
      ]
     },
     "metadata": {},
     "output_type": "display_data"
    }
   ],
   "source": [
    "res_x = widgets.IntSlider(description='res x',min=20,max=100,step=10,value=20)\n",
    "res_y = widgets.IntSlider(description='res y',min=20,max=100,step=10,value=20)\n",
    "res_z = widgets.IntSlider(description='res z',min=20,max=100,step=10,value=20)\n",
    "ui = widgets.VBox([res_x, res_y, res_z])\n",
    "def f(res_x, res_y, res_z):\n",
    "    print('resolution : [',res_x, res_y, res_z,']')\n",
    "out = widgets.interactive_output(f, {'res_x': res_x, 'res_y': res_y, 'res_z': res_z})\n",
    "display(ui, out)"
   ]
  },
  {
   "cell_type": "code",
   "execution_count": 87,
   "metadata": {},
   "outputs": [
    {
     "name": "stdout",
     "output_type": "stream",
     "text": [
      "Active grids: ['regular']\n"
     ]
    },
    {
     "name": "stderr",
     "output_type": "stream",
     "text": [
      "If pole_vector and orientation are passed pole_vector is used/\n"
     ]
    },
    {
     "data": {
      "text/html": [
       "<div>\n",
       "<style scoped>\n",
       "    .dataframe tbody tr th:only-of-type {\n",
       "        vertical-align: middle;\n",
       "    }\n",
       "\n",
       "    .dataframe tbody tr th {\n",
       "        vertical-align: top;\n",
       "    }\n",
       "\n",
       "    .dataframe thead th {\n",
       "        text-align: right;\n",
       "    }\n",
       "</style>\n",
       "<table border=\"1\" class=\"dataframe\">\n",
       "  <thead>\n",
       "    <tr style=\"text-align: right;\">\n",
       "      <th></th>\n",
       "      <th>X</th>\n",
       "      <th>Y</th>\n",
       "      <th>Z</th>\n",
       "      <th>G_x</th>\n",
       "      <th>G_y</th>\n",
       "      <th>G_z</th>\n",
       "      <th>smooth</th>\n",
       "    </tr>\n",
       "  </thead>\n",
       "  <tbody>\n",
       "    <tr>\n",
       "      <th>count</th>\n",
       "      <td>46.000000</td>\n",
       "      <td>46.000000</td>\n",
       "      <td>46.000000</td>\n",
       "      <td>46.000000</td>\n",
       "      <td>46.000000</td>\n",
       "      <td>46.000000</td>\n",
       "      <td>4.600000e+01</td>\n",
       "    </tr>\n",
       "    <tr>\n",
       "      <th>mean</th>\n",
       "      <td>5076.086957</td>\n",
       "      <td>5945.652174</td>\n",
       "      <td>1923.913043</td>\n",
       "      <td>-0.072779</td>\n",
       "      <td>-0.056969</td>\n",
       "      <td>-0.977639</td>\n",
       "      <td>1.000000e-02</td>\n",
       "    </tr>\n",
       "    <tr>\n",
       "      <th>std</th>\n",
       "      <td>2579.766121</td>\n",
       "      <td>2461.319115</td>\n",
       "      <td>475.831335</td>\n",
       "      <td>0.124226</td>\n",
       "      <td>0.143189</td>\n",
       "      <td>0.023163</td>\n",
       "      <td>1.753892e-18</td>\n",
       "    </tr>\n",
       "    <tr>\n",
       "      <th>min</th>\n",
       "      <td>500.000000</td>\n",
       "      <td>500.000000</td>\n",
       "      <td>550.000000</td>\n",
       "      <td>-0.410415</td>\n",
       "      <td>-0.357199</td>\n",
       "      <td>-1.000000</td>\n",
       "      <td>1.000000e-02</td>\n",
       "    </tr>\n",
       "    <tr>\n",
       "      <th>25%</th>\n",
       "      <td>3000.000000</td>\n",
       "      <td>4250.000000</td>\n",
       "      <td>1575.000000</td>\n",
       "      <td>-0.151132</td>\n",
       "      <td>-0.146246</td>\n",
       "      <td>-0.994253</td>\n",
       "      <td>1.000000e-02</td>\n",
       "    </tr>\n",
       "    <tr>\n",
       "      <th>50%</th>\n",
       "      <td>4750.000000</td>\n",
       "      <td>6500.000000</td>\n",
       "      <td>2100.000000</td>\n",
       "      <td>-0.074291</td>\n",
       "      <td>-0.057895</td>\n",
       "      <td>-0.985307</td>\n",
       "      <td>1.000000e-02</td>\n",
       "    </tr>\n",
       "    <tr>\n",
       "      <th>75%</th>\n",
       "      <td>7375.000000</td>\n",
       "      <td>7500.000000</td>\n",
       "      <td>2250.000000</td>\n",
       "      <td>0.021163</td>\n",
       "      <td>0.044315</td>\n",
       "      <td>-0.964729</td>\n",
       "      <td>1.000000e-02</td>\n",
       "    </tr>\n",
       "    <tr>\n",
       "      <th>max</th>\n",
       "      <td>9000.000000</td>\n",
       "      <td>9500.000000</td>\n",
       "      <td>2450.000000</td>\n",
       "      <td>0.130628</td>\n",
       "      <td>0.212718</td>\n",
       "      <td>-0.907746</td>\n",
       "      <td>1.000000e-02</td>\n",
       "    </tr>\n",
       "  </tbody>\n",
       "</table>\n",
       "</div>"
      ],
      "text/plain": [
       "                 X            Y            Z        G_x        G_y        G_z  \\\n",
       "count    46.000000    46.000000    46.000000  46.000000  46.000000  46.000000   \n",
       "mean   5076.086957  5945.652174  1923.913043  -0.072779  -0.056969  -0.977639   \n",
       "std    2579.766121  2461.319115   475.831335   0.124226   0.143189   0.023163   \n",
       "min     500.000000   500.000000   550.000000  -0.410415  -0.357199  -1.000000   \n",
       "25%    3000.000000  4250.000000  1575.000000  -0.151132  -0.146246  -0.994253   \n",
       "50%    4750.000000  6500.000000  2100.000000  -0.074291  -0.057895  -0.985307   \n",
       "75%    7375.000000  7500.000000  2250.000000   0.021163   0.044315  -0.964729   \n",
       "max    9000.000000  9500.000000  2450.000000   0.130628   0.212718  -0.907746   \n",
       "\n",
       "             smooth  \n",
       "count  4.600000e+01  \n",
       "mean   1.000000e-02  \n",
       "std    1.753892e-18  \n",
       "min    1.000000e-02  \n",
       "25%    1.000000e-02  \n",
       "50%    1.000000e-02  \n",
       "75%    1.000000e-02  \n",
       "max    1.000000e-02  "
      ]
     },
     "execution_count": 87,
     "metadata": {},
     "output_type": "execute_result"
    }
   ],
   "source": [
    "geo_data = gp.create_data('synth_model',\n",
    "                           extent=[0, 10000, 0, 10000, 0, 2500],\n",
    "                           resolution=[res_x.value,res_y.value,res_z.value],\n",
    "                           path_i =\"data/df_synth_surf.csv\",\n",
    "                           path_o =\"data/df_synth_orient.csv\",default_value=True)\n",
    "#gp.set_orientation_from_surface_points(geo_data,[0,1,2])\n",
    "gp.get_data(geo_data,'orientations').describe()"
   ]
  },
  {
   "cell_type": "markdown",
   "metadata": {},
   "source": [
    "#### 5.2 Load a random topography"
   ]
  },
  {
   "cell_type": "code",
   "execution_count": 88,
   "metadata": {},
   "outputs": [
    {
     "name": "stdout",
     "output_type": "stream",
     "text": [
      "[2000. 2500.]\n",
      "Active grids: ['regular' 'topography']\n"
     ]
    },
    {
     "data": {
      "text/plain": [
       "Grid Object. Values: \n",
       "array([[  125.        ,   125.        ,    25.        ],\n",
       "       [  125.        ,   125.        ,    75.        ],\n",
       "       [  125.        ,   125.        ,   125.        ],\n",
       "       ...,\n",
       "       [10000.        ,  9487.17948718,  2132.45718119],\n",
       "       [10000.        ,  9743.58974359,  2162.86212875],\n",
       "       [10000.        , 10000.        ,  2160.67906648]])"
      ]
     },
     "execution_count": 88,
     "metadata": {},
     "output_type": "execute_result"
    }
   ],
   "source": [
    "geo_data.surfaces\n",
    "geo_data.set_topography(source='random')"
   ]
  },
  {
   "cell_type": "markdown",
   "metadata": {},
   "source": [
    "#### 5.3 Declare series and surface order"
   ]
  },
  {
   "cell_type": "code",
   "execution_count": 89,
   "metadata": {},
   "outputs": [
    {
     "data": {
      "text/html": [
       "<style  type=\"text/css\" >\n",
       "#T_aece4fd4_ac0b_11eb_ab31_c3599a376c9crow0_col3{\n",
       "            background-color:  #015482;\n",
       "        }#T_aece4fd4_ac0b_11eb_ab31_c3599a376c9crow1_col3{\n",
       "            background-color:  #e5350f;\n",
       "        }#T_aece4fd4_ac0b_11eb_ab31_c3599a376c9crow2_col3{\n",
       "            background-color:  #728f02;\n",
       "        }#T_aece4fd4_ac0b_11eb_ab31_c3599a376c9crow3_col3{\n",
       "            background-color:  #9f0052;\n",
       "        }#T_aece4fd4_ac0b_11eb_ab31_c3599a376c9crow4_col3{\n",
       "            background-color:  #443988;\n",
       "        }</style><table id=\"T_aece4fd4_ac0b_11eb_ab31_c3599a376c9c\" ><thead>    <tr>        <th class=\"blank level0\" ></th>        <th class=\"col_heading level0 col0\" >surface</th>        <th class=\"col_heading level0 col1\" >series</th>        <th class=\"col_heading level0 col2\" >order_surfaces</th>        <th class=\"col_heading level0 col3\" >color</th>        <th class=\"col_heading level0 col4\" >id</th>    </tr></thead><tbody>\n",
       "                <tr>\n",
       "                        <th id=\"T_aece4fd4_ac0b_11eb_ab31_c3599a376c9clevel0_row0\" class=\"row_heading level0 row0\" >0</th>\n",
       "                        <td id=\"T_aece4fd4_ac0b_11eb_ab31_c3599a376c9crow0_col0\" class=\"data row0 col0\" >Layer1</td>\n",
       "                        <td id=\"T_aece4fd4_ac0b_11eb_ab31_c3599a376c9crow0_col1\" class=\"data row0 col1\" >Strat_series</td>\n",
       "                        <td id=\"T_aece4fd4_ac0b_11eb_ab31_c3599a376c9crow0_col2\" class=\"data row0 col2\" >1</td>\n",
       "                        <td id=\"T_aece4fd4_ac0b_11eb_ab31_c3599a376c9crow0_col3\" class=\"data row0 col3\" >#015482</td>\n",
       "                        <td id=\"T_aece4fd4_ac0b_11eb_ab31_c3599a376c9crow0_col4\" class=\"data row0 col4\" >1</td>\n",
       "            </tr>\n",
       "            <tr>\n",
       "                        <th id=\"T_aece4fd4_ac0b_11eb_ab31_c3599a376c9clevel0_row1\" class=\"row_heading level0 row1\" >1</th>\n",
       "                        <td id=\"T_aece4fd4_ac0b_11eb_ab31_c3599a376c9crow1_col0\" class=\"data row1 col0\" >Layer2</td>\n",
       "                        <td id=\"T_aece4fd4_ac0b_11eb_ab31_c3599a376c9crow1_col1\" class=\"data row1 col1\" >Strat_series</td>\n",
       "                        <td id=\"T_aece4fd4_ac0b_11eb_ab31_c3599a376c9crow1_col2\" class=\"data row1 col2\" >2</td>\n",
       "                        <td id=\"T_aece4fd4_ac0b_11eb_ab31_c3599a376c9crow1_col3\" class=\"data row1 col3\" >#e5350f</td>\n",
       "                        <td id=\"T_aece4fd4_ac0b_11eb_ab31_c3599a376c9crow1_col4\" class=\"data row1 col4\" >2</td>\n",
       "            </tr>\n",
       "            <tr>\n",
       "                        <th id=\"T_aece4fd4_ac0b_11eb_ab31_c3599a376c9clevel0_row2\" class=\"row_heading level0 row2\" >2</th>\n",
       "                        <td id=\"T_aece4fd4_ac0b_11eb_ab31_c3599a376c9crow2_col0\" class=\"data row2 col0\" >Layer3</td>\n",
       "                        <td id=\"T_aece4fd4_ac0b_11eb_ab31_c3599a376c9crow2_col1\" class=\"data row2 col1\" >Strat_series</td>\n",
       "                        <td id=\"T_aece4fd4_ac0b_11eb_ab31_c3599a376c9crow2_col2\" class=\"data row2 col2\" >3</td>\n",
       "                        <td id=\"T_aece4fd4_ac0b_11eb_ab31_c3599a376c9crow2_col3\" class=\"data row2 col3\" >#728f02</td>\n",
       "                        <td id=\"T_aece4fd4_ac0b_11eb_ab31_c3599a376c9crow2_col4\" class=\"data row2 col4\" >3</td>\n",
       "            </tr>\n",
       "            <tr>\n",
       "                        <th id=\"T_aece4fd4_ac0b_11eb_ab31_c3599a376c9clevel0_row3\" class=\"row_heading level0 row3\" >3</th>\n",
       "                        <td id=\"T_aece4fd4_ac0b_11eb_ab31_c3599a376c9crow3_col0\" class=\"data row3 col0\" >Layer4</td>\n",
       "                        <td id=\"T_aece4fd4_ac0b_11eb_ab31_c3599a376c9crow3_col1\" class=\"data row3 col1\" >Strat_series</td>\n",
       "                        <td id=\"T_aece4fd4_ac0b_11eb_ab31_c3599a376c9crow3_col2\" class=\"data row3 col2\" >4</td>\n",
       "                        <td id=\"T_aece4fd4_ac0b_11eb_ab31_c3599a376c9crow3_col3\" class=\"data row3 col3\" >#9f0052</td>\n",
       "                        <td id=\"T_aece4fd4_ac0b_11eb_ab31_c3599a376c9crow3_col4\" class=\"data row3 col4\" >4</td>\n",
       "            </tr>\n",
       "            <tr>\n",
       "                        <th id=\"T_aece4fd4_ac0b_11eb_ab31_c3599a376c9clevel0_row4\" class=\"row_heading level0 row4\" >4</th>\n",
       "                        <td id=\"T_aece4fd4_ac0b_11eb_ab31_c3599a376c9crow4_col0\" class=\"data row4 col0\" >basement</td>\n",
       "                        <td id=\"T_aece4fd4_ac0b_11eb_ab31_c3599a376c9crow4_col1\" class=\"data row4 col1\" >Strat_series</td>\n",
       "                        <td id=\"T_aece4fd4_ac0b_11eb_ab31_c3599a376c9crow4_col2\" class=\"data row4 col2\" >5</td>\n",
       "                        <td id=\"T_aece4fd4_ac0b_11eb_ab31_c3599a376c9crow4_col3\" class=\"data row4 col3\" >#443988</td>\n",
       "                        <td id=\"T_aece4fd4_ac0b_11eb_ab31_c3599a376c9crow4_col4\" class=\"data row4 col4\" >5</td>\n",
       "            </tr>\n",
       "    </tbody></table>"
      ],
      "text/plain": [
       "    surface        series  order_surfaces    color  id\n",
       "0    Layer1  Strat_series               1  #015482   1\n",
       "1    Layer2  Strat_series               2  #e5350f   2\n",
       "2    Layer3  Strat_series               3  #728f02   3\n",
       "3    Layer4  Strat_series               4  #9f0052   4\n",
       "4  basement  Strat_series               5  #443988   5"
      ]
     },
     "execution_count": 89,
     "metadata": {},
     "output_type": "execute_result"
    }
   ],
   "source": [
    "gp.map_stack_to_surfaces(geo_data, {\"Strat_Series\": (\"Layer4\",\"Layer3\",\"Layer2\",\"Layer1\"),\n",
    "                                    \"Basement Series\":\"basement\"},\n",
    "                                   remove_unused_series=False)\n",
    "gp.map_series_to_surfaces(geo_data, {\"Strat_series\":('basement','Layer4','Layer3','Layer2','Layer1')},remove_unused_series=False)\n",
    "geo_data.surfaces.colors.change_colors({'Layer1': '#015482', 'Layer2': '#e5350f', 'Layer3': '#728f02','Layer4': '#9f0052',\n",
    "                                        'basement': '#443988'})\n",
    "geo_data.surfaces"
   ]
  },
  {
   "cell_type": "markdown",
   "metadata": {},
   "source": [
    "#### 5.4 Interpolate and plot 3d gempy model"
   ]
  },
  {
   "cell_type": "code",
   "execution_count": 90,
   "metadata": {},
   "outputs": [
    {
     "name": "stdout",
     "output_type": "stream",
     "text": [
      "Setting kriging parameters to their default values.\n",
      "Compiling theano function...\n",
      "Level of Optimization:  fast_compile\n",
      "Device:  cpu\n",
      "Precision:  float64\n",
      "Number of faults:  0\n",
      "Compilation Done!\n",
      "Kriging values: \n",
      "                           values\n",
      "range                    14361.4\n",
      "$C_o$                4.91071e+06\n",
      "drift equations  [3, 3, 3, 3, 3]\n"
     ]
    }
   ],
   "source": [
    "interp_data = gp.set_interpolator(geo_data, compile_theano=True,theano_optimizer='fast_compile')"
   ]
  },
  {
   "cell_type": "code",
   "execution_count": 91,
   "metadata": {},
   "outputs": [],
   "source": [
    "sol = gp.compute_model(geo_data,set_solutions=True, compute_mesh=True)"
   ]
  },
  {
   "cell_type": "code",
   "execution_count": 92,
   "metadata": {},
   "outputs": [
    {
     "data": {
      "text/plain": [
       "array([1., 1., 1., ..., 5., 5., 5.])"
      ]
     },
     "execution_count": 92,
     "metadata": {},
     "output_type": "execute_result"
    }
   ],
   "source": [
    "sol.lith_block"
   ]
  },
  {
   "cell_type": "code",
   "execution_count": 93,
   "metadata": {},
   "outputs": [
    {
     "data": {
      "text/plain": [
       "Grid Object. Values: \n",
       "array([[  125.        ,   125.        ,    25.        ],\n",
       "       [  125.        ,   125.        ,    75.        ],\n",
       "       [  125.        ,   125.        ,   125.        ],\n",
       "       ...,\n",
       "       [10000.        ,  9487.17948718,  2132.45718119],\n",
       "       [10000.        ,  9743.58974359,  2162.86212875],\n",
       "       [10000.        , 10000.        ,  2160.67906648]])"
      ]
     },
     "execution_count": 93,
     "metadata": {},
     "output_type": "execute_result"
    }
   ],
   "source": [
    "sol.grid"
   ]
  },
  {
   "cell_type": "code",
   "execution_count": 94,
   "metadata": {},
   "outputs": [
    {
     "data": {
      "application/vnd.jupyter.widget-view+json": {
       "model_id": "7102c29ac3f841289cd04c806a5336c6",
       "version_major": 2,
       "version_minor": 0
      },
      "text/plain": [
       "interactive(children=(IntSlider(value=10, description='slice on x/y :', max=39), Dropdown(description='layer',…"
      ]
     },
     "metadata": {},
     "output_type": "display_data"
    },
    {
     "data": {
      "text/plain": [
       "<function __main__.plot_cross_section(cell, layer, dir)>"
      ]
     },
     "execution_count": 94,
     "metadata": {},
     "output_type": "execute_result"
    }
   ],
   "source": [
    "def plot_cross_section(cell,layer,dir):\n",
    "    gp.plot_2d(geo_data, cell_number=cell, series_n=layer,direction=dir,ve=2,\n",
    "               show_data=True,\n",
    "               show_boundaries=True,\n",
    "               show_results=True,\n",
    "               show_topography=True,kwargs_regular_grid={'cmap': 'viridis', 'norm':None})\n",
    "    #plt.show()\n",
    "widgets.interact(plot_cross_section,\n",
    "                 cell=widgets.IntSlider(description='slice on x/y :',min=0,max=res_x.value-1,step=1,value=10),\n",
    "                 layer=[('Layer1', 0), ('Layer2', 1), ('Layer3', 2), ('Layer4', 3), ('Layer5', 4)],\n",
    "                 dir=['x','y'])"
   ]
  },
  {
   "cell_type": "code",
   "execution_count": 30,
   "metadata": {},
   "outputs": [],
   "source": [
    "#gp.plot_3d(geo_data, plotter_type='background',ve=1,show_topography=True,show_data=True,show_surfaces=True,show_results=True,show_lith=True)"
   ]
  },
  {
   "cell_type": "code",
   "execution_count": 31,
   "metadata": {},
   "outputs": [],
   "source": [
    "#gp.plot.plot_interactive_3d(geo_data)"
   ]
  },
  {
   "cell_type": "markdown",
   "metadata": {},
   "source": [
    "### 5.4 Save model"
   ]
  },
  {
   "cell_type": "code",
   "execution_count": 95,
   "metadata": {},
   "outputs": [
    {
     "data": {
      "text/plain": [
       "True"
      ]
     },
     "execution_count": 95,
     "metadata": {},
     "output_type": "execute_result"
    }
   ],
   "source": [
    "gp.save_model(geo_data)\n",
    "#np.save('Layer1_ver', geo_data.solutions.vertices) # numpy binary export .npy\n",
    "#np.save('Layer1_edges', geo_data.solutions.edges)"
   ]
  },
  {
   "cell_type": "code",
   "execution_count": 96,
   "metadata": {},
   "outputs": [],
   "source": [
    "# Simple export to VTK:\n",
    "def export_to_vtk(sol,filename):\n",
    "    print('regular grid:\\t', sol.grid.regular_grid.resolution, '\\t', sol.grid.regular_grid.extent.astype(int))\n",
    "\n",
    "    #Export whole, uncropped lith_block\n",
    "    #Get coordinate info from grid & create VTK cells info:\n",
    "    xmin = sol.grid.regular_grid.extent[0]\n",
    "    xmax = sol.grid.regular_grid.extent[1]\n",
    "    xres = sol.grid.regular_grid.resolution[0]\n",
    "    dx   = (xmax-xmin)/xres                       #pixel width\n",
    "    xvals = np.arange(xmin,xmax+dx,dx)\n",
    "\n",
    "    ymin = sol.grid.regular_grid.extent[2]\n",
    "    ymax = sol.grid.regular_grid.extent[3]\n",
    "    yres = sol.grid.regular_grid.resolution[1]\n",
    "    dy   = (ymax-ymin)/yres\n",
    "    yvals = np.arange(ymin,ymax+dy,dy)\n",
    "\n",
    "    zmin = sol.grid.regular_grid.extent[4]\n",
    "    zmax = sol.grid.regular_grid.extent[5]\n",
    "    zres = sol.grid.regular_grid.resolution[2]\n",
    "    dz   = (zmax-zmin)/zres\n",
    "    zvals = np.arange(zmin,zmax+dz,dz)\n",
    "\n",
    "    print('x:', xmin,xmax,xres,dx)\n",
    "    print('y:', ymin,ymax,yres,dy)\n",
    "    print('z:', zmin,zmax,zres,dz)\n",
    "\n",
    "    g = sol.lith_block.copy()            #make a copy to avoid messing up original\n",
    "    g = np.reshape(g, (xres,yres,zres))  #reshape lith block to 3D\n",
    "    print('shape of array to export:', g.shape)\n",
    "    plt.imshow(g[:,:,zres-1])\n",
    "    print( )\n",
    "    path = r'./data/output_model/'+str(filename)  #set file path to save to (should have no extension)\n",
    "    pyevtk.hl.gridToVTK(path, xvals, yvals, zvals, cellData={'data': g}) #PYthon Export to VTK"
   ]
  },
  {
   "cell_type": "code",
   "execution_count": 97,
   "metadata": {},
   "outputs": [
    {
     "name": "stdout",
     "output_type": "stream",
     "text": [
      "regular grid:\t [40 40 50] \t [    0 10000     0 10000     0  2500]\n",
      "x: 0.0 10000.0 40 250.0\n",
      "y: 0.0 10000.0 40 250.0\n",
      "z: 0.0 2500.0 50 50.0\n",
      "shape of array to export: (40, 40, 50)\n",
      "\n"
     ]
    }
   ],
   "source": [
    "export_to_vtk(sol,'synth_model')"
   ]
  },
  {
   "cell_type": "markdown",
   "metadata": {},
   "source": [
    "### Add pyvista rendering to navigate in the gempy solution"
   ]
  },
  {
   "cell_type": "code",
   "execution_count": 112,
   "metadata": {},
   "outputs": [
    {
     "data": {
      "text/html": [
       "<table><tr><th>Header</th><th>Data Arrays</th></tr><tr><td>\n",
       "<table>\n",
       "<tr><th>RectilinearGrid</th><th>Information</th></tr>\n",
       "<tr><td>N Cells</td><td>80000</td></tr>\n",
       "<tr><td>N Points</td><td>85731</td></tr>\n",
       "<tr><td>X Bounds</td><td>0.000e+00, 1.000e+04</td></tr>\n",
       "<tr><td>Y Bounds</td><td>0.000e+00, 1.000e+04</td></tr>\n",
       "<tr><td>Z Bounds</td><td>0.000e+00, 2.500e+03</td></tr>\n",
       "<tr><td>Dimensions</td><td>41, 41, 51</td></tr>\n",
       "<tr><td>N Arrays</td><td>1</td></tr>\n",
       "</table>\n",
       "\n",
       "</td><td>\n",
       "<table>\n",
       "<tr><th>Name</th><th>Field</th><th>Type</th><th>N Comp</th><th>Min</th><th>Max</th></tr>\n",
       "<tr><td><b>data</b></td><td>Cells</td><td>float64</td><td>1</td><td>1.000e+00</td><td>5.000e+00</td></tr>\n",
       "</table>\n",
       "\n",
       "</td></tr> </table>"
      ],
      "text/plain": [
       "RectilinearGrid (0x7f765d05a8e0)\n",
       "  N Cells:\t80000\n",
       "  N Points:\t85731\n",
       "  X Bounds:\t0.000e+00, 1.000e+04\n",
       "  Y Bounds:\t0.000e+00, 1.000e+04\n",
       "  Z Bounds:\t0.000e+00, 2.500e+03\n",
       "  Dimensions:\t41, 41, 51\n",
       "  N Arrays:\t1"
      ]
     },
     "execution_count": 112,
     "metadata": {},
     "output_type": "execute_result"
    }
   ],
   "source": [
    "boring_cmap = plt.cm.get_cmap(\"jet\", 5)\n",
    "mesh = pv.read(r'./data/output_model/synth_model.vtr')\n",
    "#print('\\t Num. cells : ',mesh.n_cells,'| Num; points : ',mesh.n_points)\n",
    "mesh"
   ]
  },
  {
   "cell_type": "code",
   "execution_count": 111,
   "metadata": {},
   "outputs": [],
   "source": [
    "#mesh.plot(scalars='data',show_edges=True,show_bounds=True,cmap=boring_cmap,text='Layers')"
   ]
  },
  {
   "cell_type": "code",
   "execution_count": 118,
   "metadata": {},
   "outputs": [
    {
     "data": {
      "application/vnd.jupyter.widget-view+json": {
       "model_id": "738c598bcad54d12a1d08cde6b35bc7b",
       "version_major": 2,
       "version_minor": 0
      },
      "text/plain": [
       "ViewInteractiveWidget(height=768, layout=Layout(height='auto', width='100%'), width=1024)"
      ]
     },
     "metadata": {},
     "output_type": "display_data"
    },
    {
     "data": {
      "text/plain": [
       "[(-15947.469588191681, -15947.469588191681, 22197.46977129715),\n",
       " (5000.000183105469, 5000.000183105469, 1250.0),\n",
       " (0.0, 0.0, 1.0)]"
      ]
     },
     "execution_count": 118,
     "metadata": {},
     "output_type": "execute_result"
    }
   ],
   "source": [
    "p = pv.Plotter()\n",
    "p.add_bounding_box(color='grey', corner_factor=0.5, line_width=None, opacity=1.0, render_lines_as_tubes=False, lighting=None, reset_camera=None, outline=True, culling='front')\n",
    "p.add_mesh_clip_box(mesh,scalars='data',show_edges=False,cmap=boring_cmap)\n",
    "p.add_axes()\n",
    "p.show_grid()\n",
    "p.show(cpos=[-1, -1, 1])"
   ]
  },
  {
   "cell_type": "code",
   "execution_count": 57,
   "metadata": {},
   "outputs": [],
   "source": [
    "mesh.save(r'./data/output_model/sol.vtk') # supported by tecplot 360"
   ]
  }
 ],
 "metadata": {
  "kernelspec": {
   "display_name": "Python 3",
   "language": "python",
   "name": "python3"
  },
  "language_info": {
   "codemirror_mode": {
    "name": "ipython",
    "version": 3
   },
   "file_extension": ".py",
   "mimetype": "text/x-python",
   "name": "python",
   "nbconvert_exporter": "python",
   "pygments_lexer": "ipython3",
   "version": "3.8.6"
  },
  "toc-showcode": true,
  "widgets": {
   "application/vnd.jupyter.widget-state+json": {
    "state": {},
    "version_major": 2,
    "version_minor": 0
   }
  }
 },
 "nbformat": 4,
 "nbformat_minor": 4
}
